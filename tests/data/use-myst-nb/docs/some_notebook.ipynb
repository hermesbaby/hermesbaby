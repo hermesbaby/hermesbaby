{
 "cells": [
  {
   "cell_type": "markdown",
   "id": "ac70a2a2",
   "metadata": {},
   "source": [
    "# Some notebook\n",
    "\n",
    "This is some notebook."
   ]
  },
  {
   "cell_type": "code",
   "execution_count": null,
   "id": "49becc3a",
   "metadata": {},
   "outputs": [],
   "source": [
    "m = 2\n",
    "b = 1\n",
    "\n",
    "def y(x):\n",
    "    return m*x+b\n",
    "\n",
    "print(y(0))\n",
    "print(y(1))\n",
    "print(y(-1))"
   ]
  },
  {
   "cell_type": "code",
   "execution_count": null,
   "id": "dde1ff47",
   "metadata": {},
   "outputs": [],
   "source": []
  }
 ],
 "metadata": {
  "kernelspec": {
   "display_name": ".venv",
   "language": "python",
   "name": "python3"
  },
  "language_info": {
   "codemirror_mode": {
    "name": "ipython",
    "version": 3
   },
   "file_extension": ".py",
   "mimetype": "text/x-python",
   "name": "python",
   "nbconvert_exporter": "python",
   "pygments_lexer": "ipython3",
   "version": "3.12.10"
  }
 },
 "nbformat": 4,
 "nbformat_minor": 5
}
